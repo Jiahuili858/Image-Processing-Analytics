{
 "cells": [
  {
   "cell_type": "markdown",
   "metadata": {
    "ExecuteTime": {
     "end_time": "2019-09-22T20:05:02.595999Z",
     "start_time": "2019-09-22T20:05:02.589943Z"
    }
   },
   "source": [
    "# LPR Assignment using OpenCV and Tesseract\n",
    "\n",
    "Use Optical Character Recognition (OCR) to extract license plate number, aka. vehicle registration number (VRN)\n",
    "The actual VRN is coded in the file name and also represented in the corresponding meta data file (XML file)"
   ]
  },
  {
   "cell_type": "code",
   "execution_count": 1,
   "metadata": {
    "ExecuteTime": {
     "end_time": "2020-08-23T13:53:49.800949Z",
     "start_time": "2020-08-23T13:53:49.703277Z"
    }
   },
   "outputs": [
    {
     "name": "stdout",
     "output_type": "stream",
     "text": [
      "4.4.0\n"
     ]
    }
   ],
   "source": [
    "import sys\n",
    "# sys.path.insert(0, \"/opt/opencv-4.4.0/build/python_loader\")\n",
    "import cv2\n",
    "print(cv2.__version__)"
   ]
  },
  {
   "cell_type": "code",
   "execution_count": 7,
   "metadata": {
    "ExecuteTime": {
     "end_time": "2020-08-17T12:10:09.072473Z",
     "start_time": "2020-08-17T12:10:08.360260Z"
    },
    "scrolled": false
   },
   "outputs": [
    {
     "name": "stdout",
     "output_type": "stream",
     "text": [
      "4.1.1\n"
     ]
    }
   ],
   "source": [
    "import sys, os\n",
    "jp = os.path.join\n",
    "import numpy as np\n",
    "import pandas as pd\n",
    "%matplotlib inline\n",
    "import matplotlib.pyplot as plt\n",
    "\n",
    "##DATADIR = '/data/classes/MSA8650/LPR_project_data'\n",
    "DATADIR = 'data_redatcted'\n",
    "\n",
    "## OPENCV = '/opt/local/lib/python3.6/site-packages/cv2/python-3.6'\n",
    "# OPENCV = '/opt/opencv-4.4.0/build/lib/python3'\n",
    "# if OPENCV not in sys.path:\n",
    "#     sys.path.insert(0, OPENCV)\n",
    "# import cv2\n",
    "# print(cv2.__version__)\n",
    "\n",
    "import pytesseract\n",
    "print(pytesseract.get_tesseract_version())"
   ]
  },
  {
   "cell_type": "markdown",
   "metadata": {},
   "source": [
    "# Meta Info\n",
    "Read the XML files and create a table with all the meta information of the samples."
   ]
  },
  {
   "cell_type": "code",
   "execution_count": null,
   "metadata": {
    "ExecuteTime": {
     "end_time": "2020-08-16T19:22:37.012095Z",
     "start_time": "2020-08-16T19:22:36.910667Z"
    }
   },
   "outputs": [],
   "source": [
    "xmls_list = [x for x in filter(lambda s: s.endswith('.xml'), map(lambda s: s.strip(), os.popen('ls %s/xml' % DATADIR).readlines()))]\n",
    "context_list = [x for x in filter(lambda s: s.endswith('.jpg'), map(lambda s: s.strip(), os.popen('ls %s/context' % DATADIR).readlines()))]\n",
    "ir_list = [x for x in filter(lambda s: s.endswith('.jpg'), map(lambda s: s.strip(), os.popen('ls %s/ir_patch' % DATADIR).readlines()))]\n",
    "xmls_list[:3], context_list[:3], ir_list[:3]"
   ]
  },
  {
   "cell_type": "code",
   "execution_count": null,
   "metadata": {
    "ExecuteTime": {
     "end_time": "2020-08-16T19:22:56.630016Z",
     "start_time": "2020-08-16T19:22:56.566256Z"
    }
   },
   "outputs": [],
   "source": [
    "lpdf = pd.DataFrame(index=map(lambda s: s.split('_')[0], xmls_list), data={'xml': xmls_list}) \\\n",
    "        .join( pd.DataFrame(index=map(lambda s: s.split('_')[0], context_list), data={'context': context_list}), how='outer' ) \\\n",
    "        .join( pd.DataFrame(index=map(lambda s: s.split('_')[0], ir_list), data={'ir_patch': ir_list}), how='outer' ) \\\n",
    "        .dropna().copy()\n",
    "print(lpdf.shape)\n",
    "display(lpdf.head(5))"
   ]
  },
  {
   "cell_type": "code",
   "execution_count": null,
   "metadata": {
    "ExecuteTime": {
     "end_time": "2020-08-16T19:23:13.816513Z",
     "start_time": "2020-08-16T19:23:13.805645Z"
    }
   },
   "outputs": [],
   "source": [
    "import xml.etree.ElementTree as ET"
   ]
  },
  {
   "cell_type": "code",
   "execution_count": null,
   "metadata": {
    "ExecuteTime": {
     "end_time": "2020-08-16T19:25:53.210577Z",
     "start_time": "2020-08-16T19:25:53.198137Z"
    }
   },
   "outputs": [],
   "source": [
    "meta_df.IRImagePatch."
   ]
  },
  {
   "cell_type": "code",
   "execution_count": null,
   "metadata": {
    "ExecuteTime": {
     "end_time": "2020-08-16T19:38:21.051800Z",
     "start_time": "2020-08-16T19:38:12.447049Z"
    },
    "scrolled": true
   },
   "outputs": [],
   "source": [
    "meta_df = pd.DataFrame()\n",
    "for i, r in lpdf.iterrows():\n",
    "    tree = ET.parse(jp(DATADIR, 'xml', r.xml))\n",
    "    el_dict = {}\n",
    "    for x in tree.iter():\n",
    "        el_dict[x.tag] = [x.text]\n",
    "    el_dict\n",
    "    r_df = pd.DataFrame(el_dict) ##, index=[r.xml])\n",
    "    r_df.index = [r.xml]\n",
    "    meta_df = pd.concat([meta_df, r_df])\n",
    "for c in ['IRImagePatch', 'ContextImage']:\n",
    "    print(f'fix {c}')\n",
    "    meta_df[c] = meta_df[c].map(lambda p: p.replace(r'data_redatcted/', ''))\n",
    "print(meta_df.shape)\n",
    "meta_df.head(5)"
   ]
  },
  {
   "cell_type": "code",
   "execution_count": null,
   "metadata": {
    "ExecuteTime": {
     "end_time": "2020-08-16T19:41:37.546553Z",
     "start_time": "2020-08-16T19:41:37.499110Z"
    }
   },
   "outputs": [],
   "source": [
    "meta_df.reset_index() \\\n",
    "    .rename({'index': 'XMLFile'}, axis=1) \\\n",
    "    .to_csv(jp(DATADIR, 'meta_data.csv'), index=None)"
   ]
  },
  {
   "cell_type": "code",
   "execution_count": null,
   "metadata": {
    "ExecuteTime": {
     "end_time": "2020-08-16T21:32:59.559358Z",
     "start_time": "2020-08-16T21:32:59.426974Z"
    }
   },
   "outputs": [],
   "source": [
    "! ls -l /data/classes/MSA8650/LPR_project_data/\n"
   ]
  },
  {
   "cell_type": "code",
   "execution_count": null,
   "metadata": {},
   "outputs": [],
   "source": []
  },
  {
   "cell_type": "code",
   "execution_count": null,
   "metadata": {
    "ExecuteTime": {
     "end_time": "2019-09-22T19:51:59.385973-04:00",
     "start_time": "2019-09-22T19:51:59.345731"
    }
   },
   "outputs": [],
   "source": [
    "num_cols = ['ANPRImageHeight', 'ANPRImageWidth', 'PlateHeight', 'PlateWidth', 'PlateXCoord', 'PlateYCoord', \n",
    "            'TagConfidence', 'VRNConfidence', 'Velocity', 'VelocityError', 'XCoord', 'YCoord']\n",
    "def string2float(x):\n",
    "    return np.NAN if x=='None' else float(x)\n",
    "    \n",
    "for col in num_cols:\n",
    "    meta_df[col] = meta_df[col].map(string2float)\n",
    "meta_df.head(10)\n",
    "meta_df.dtypes"
   ]
  },
  {
   "cell_type": "code",
   "execution_count": null,
   "metadata": {
    "ExecuteTime": {
     "end_time": "2019-09-22T19:52:26.631297-04:00",
     "start_time": "2019-09-22T19:52:26.560717"
    }
   },
   "outputs": [],
   "source": [
    "lpdf2 = lpdf.set_index('xml').join(meta_df).reset_index()\n",
    "lpdf2.head(5)"
   ]
  },
  {
   "cell_type": "code",
   "execution_count": null,
   "metadata": {
    "ExecuteTime": {
     "end_time": "2019-09-22T19:52:32.095394-04:00",
     "start_time": "2019-09-22T19:52:32.050983"
    }
   },
   "outputs": [],
   "source": [
    "lpdf2[['PlateXCoord', 'PlateYCoord', 'PlateWidth', 'PlateHeight']].describe()"
   ]
  },
  {
   "cell_type": "code",
   "execution_count": null,
   "metadata": {
    "ExecuteTime": {
     "end_time": "2019-09-22T19:53:43.923292-04:00",
     "start_time": "2019-09-22T19:53:43.837571"
    }
   },
   "outputs": [],
   "source": [
    "lpdf2.describe()"
   ]
  },
  {
   "cell_type": "code",
   "execution_count": null,
   "metadata": {
    "ExecuteTime": {
     "end_time": "2019-09-22T20:41:39.890035-04:00",
     "start_time": "2019-09-22T20:41:39.338595"
    },
    "scrolled": false
   },
   "outputs": [],
   "source": [
    "row = lpdf2.iloc[17]\n",
    "\n",
    "gray = cv2.cvtColor(cv2.imread(jp(DATADIR, 'context', row.context)), cv2.COLOR_BGR2GRAY) ##  cv2.COLOR_BGR2RGB)\n",
    "print gray.shape\n",
    "plt.figure(figsize=(12.80, 10.24))\n",
    "plt.imshow(gray, cmap='gray')\n",
    "plt.show()\n",
    "plt.close()\n",
    "ir = cv2.cvtColor(cv2.imread(jp(DATADIR, 'ir_patch', row.ir_patch)), cv2.COLOR_BGR2GRAY) ##  cv2.COLOR_BGR2RGB)\n",
    "plt.imshow(ir, cmap='gray')\n",
    "plt.show()\n",
    "plt.close()"
   ]
  },
  {
   "cell_type": "markdown",
   "metadata": {},
   "source": [
    "# Adjusting position of IR-patch in context image\n",
    "\n",
    "The context image size is 800x600 pixels, the meta data says 1280x1024. These two dimensions don't have the same aspect ratio. I suspect there is a scaling factor as well as some offset required to map the context image with the IR-patch.\n",
    "\n",
    "The coordinates of the IR-patch are given as X, Y, Width, and Height. In order to determine whether the X, Y coordinates are in the center of the patch, or the upper-left corner I plotted both in green and red, respectively.\n",
    "\n",
    "With the code below I tried some hypothesis of the scaling. "
   ]
  },
  {
   "cell_type": "code",
   "execution_count": null,
   "metadata": {
    "ExecuteTime": {
     "end_time": "2019-09-25T05:34:12.160356-04:00",
     "start_time": "2019-09-25T05:34:12.151471"
    }
   },
   "outputs": [],
   "source": [
    "S = 600.0/1024\n",
    "W = 1280*S\n",
    "F = 800.0/1280.0\n",
    "H = 1024*F\n",
    "800.0/600.0, 1280.0/1024.0, S, W, F, H"
   ]
  },
  {
   "cell_type": "code",
   "execution_count": null,
   "metadata": {
    "ExecuteTime": {
     "end_time": "2019-09-25T05:41:42.834326-04:00",
     "start_time": "2019-09-25T05:41:42.826841"
    }
   },
   "outputs": [],
   "source": [
    "600*1.25"
   ]
  },
  {
   "cell_type": "code",
   "execution_count": null,
   "metadata": {
    "ExecuteTime": {
     "end_time": "2019-09-25T07:06:08.664259-04:00",
     "start_time": "2019-09-25T07:06:06.409734"
    },
    "scrolled": false
   },
   "outputs": [],
   "source": [
    "\n",
    "for k in [230, 478, 1234, 97, 991]:\n",
    "    row = lpdf2.iloc[k]\n",
    "    gray = cv2.cvtColor(cv2.imread(jp(DATADIR, 'context', row.context)), cv2.COLOR_BGR2GRAY) ##  cv2.COLOR_BGR2RGB)\n",
    "    ir = cv2.cvtColor(cv2.imread(jp(DATADIR, 'ir_patch', row.ir_patch)), cv2.COLOR_BGR2GRAY) ##  cv2.COLOR_BGR2RGB)\n",
    "    plt.imshow(ir, cmap='gray')\n",
    "    plt.figure(figsize=(8, 8))\n",
    "    W =1600\n",
    "    H = int(0.75*W)\n",
    "    context2 = cv2.cvtColor(cv2.resize(gray, (W, H)), cv2.COLOR_GRAY2RGB)\n",
    "    Sx = 1.0 ## 800.0/1280.0\n",
    "    Sy = Sx ### 600.0/1024.0\n",
    "    #Oy = H - int(H)\n",
    "    x1 = int(Sx * (row.PlateXCoord - row.PlateWidth/2))\n",
    "    y1 = int(Sy * (row.PlateYCoord - row.PlateHeight/2)) - int(Oy)\n",
    "    x2 = int(Sx * (row.PlateXCoord + row.PlateWidth/2))\n",
    "    y2 = int(Sy * (row.PlateYCoord + row.PlateHeight/2)) - int(Oy)\n",
    "    x1_ = int(Sx * (row.PlateXCoord ))\n",
    "    y1_ = int(Sy * (row.PlateYCoord )) - int(Oy)\n",
    "    x2_ = int(Sx * (row.PlateXCoord + row.PlateWidth))\n",
    "    y2_ = int(Sy * (row.PlateYCoord + row.PlateHeight)) - int(Oy)\n",
    "\n",
    "    cv2.rectangle(context2, (x1, y1), (x2, y2), (0,255,0), 2)\n",
    "    cv2.rectangle(context2, (x1_, y1_), (x2_, y2_), (255,0,0), 2)\n",
    "    plt.imshow(context2)\n",
    "    plt.show()\n",
    "    plt.close()"
   ]
  },
  {
   "cell_type": "markdown",
   "metadata": {},
   "source": [
    "# Haar Cascade\n",
    "\n",
    "https://opencv-python-tutroals.readthedocs.io/en/latest/py_tutorials/py_objdetect/py_face_detection/py_face_detection.html\n",
    "\n",
    "Object Detection using Haar feature-based cascade classifiers is a popular object detection method proposed. Commonly used for face-detection. There's a pre-trained model for Russian license plates. Though, doesn't look too promising"
   ]
  },
  {
   "cell_type": "code",
   "execution_count": null,
   "metadata": {
    "ExecuteTime": {
     "end_time": "2019-09-25T07:10:03.770709-04:00",
     "start_time": "2019-09-25T07:10:03.553121"
    }
   },
   "outputs": [],
   "source": [
    "!ls /opt/opencv-3.2.0/data/haarcascades/"
   ]
  },
  {
   "cell_type": "code",
   "execution_count": null,
   "metadata": {
    "ExecuteTime": {
     "end_time": "2019-09-25T07:20:40.844087-04:00",
     "start_time": "2019-09-25T07:20:40.834444"
    }
   },
   "outputs": [],
   "source": [
    "lpr_cascade = cv2.CascadeClassifier('/opt/opencv-3.2.0/data/haarcascades/haarcascade_licence_plate_rus_16stages.xml')\n",
    "lpr_cascade"
   ]
  },
  {
   "cell_type": "code",
   "execution_count": null,
   "metadata": {
    "ExecuteTime": {
     "end_time": "2019-09-25T07:21:17.230658-04:00",
     "start_time": "2019-09-25T07:21:16.156207"
    }
   },
   "outputs": [],
   "source": [
    "for k in [230, 478, 1234, 97, 991]:\n",
    "    row = lpdf2.iloc[k]\n",
    "    gray = cv2.cvtColor(cv2.imread(jp(DATADIR, 'context', row.context)), cv2.COLOR_BGR2GRAY) ##  cv2.COLOR_BGR2RGB)\n",
    "    img = cv2.cvtColor(gray, cv2.COLOR_GRAY2RGB)\n",
    "    plates = lpr_cascade.detectMultiScale(gray, 1.3, 5)\n",
    "    for (x,y,w,h) in plates:\n",
    "        print x, y\n",
    "        img = cv2.rectangle(img,(x,y),(x+w,y+h),(255,0,255),2)\n",
    "        roi_gray = gray[y:y+h, x:x+w]\n",
    "        roi_color = img[y:y+h, x:x+w]\n",
    "        #     eyes = eye_cascade.detectMultiScale(roi_gray)\n",
    "        #     for (ex,ey,ew,eh) in eyes:\n",
    "        #         cv2.rectangle(roi_color,(ex,ey),(ex+ew,ey+eh),(0,255,0),2)\n",
    "\n",
    "    plt.imshow(img)\n",
    "    plt.show()\n",
    "    plt.close()"
   ]
  },
  {
   "cell_type": "markdown",
   "metadata": {},
   "source": [
    "# Computing Mean and Variance from all Context Images\n",
    "This method may help to find the region of interest (ROI) and remove any static background."
   ]
  },
  {
   "cell_type": "code",
   "execution_count": null,
   "metadata": {
    "ExecuteTime": {
     "end_time": "2019-09-22T20:08:09.263832-04:00",
     "start_time": "2019-09-22T20:08:01.858893"
    }
   },
   "outputs": [],
   "source": [
    "gray_lst = []\n",
    "for i, row in lpdf2.iterrows():\n",
    "    gray = cv2.cvtColor(cv2.imread(jp(DATADIR, 'context', row.context)), cv2.COLOR_BGR2GRAY) ##  cv2.COLOR_BGR2RGB)\n",
    "    gray_lst.append(gray)\n",
    "print len(gray_lst)\n"
   ]
  },
  {
   "cell_type": "code",
   "execution_count": null,
   "metadata": {
    "ExecuteTime": {
     "end_time": "2019-09-22T20:10:58.339145-04:00",
     "start_time": "2019-09-22T20:10:57.905101"
    }
   },
   "outputs": [],
   "source": [
    "grays = np.array(gray_lst)\n",
    "grays.shape"
   ]
  },
  {
   "cell_type": "code",
   "execution_count": null,
   "metadata": {
    "ExecuteTime": {
     "end_time": "2019-09-22T20:11:47.297930-04:00",
     "start_time": "2019-09-22T20:11:46.126151"
    }
   },
   "outputs": [],
   "source": [
    "plt.imshow(grays.mean(axis=0), cmap='gray')"
   ]
  },
  {
   "cell_type": "markdown",
   "metadata": {
    "ExecuteTime": {
     "end_time": "2019-09-25T07:43:56.420297-04:00",
     "start_time": "2019-09-25T07:43:56.414195"
    }
   },
   "source": [
    "And the variance ..."
   ]
  },
  {
   "cell_type": "code",
   "execution_count": null,
   "metadata": {
    "ExecuteTime": {
     "end_time": "2019-09-22T20:12:05.322860-04:00",
     "start_time": "2019-09-22T20:11:57.809241"
    },
    "scrolled": false
   },
   "outputs": [],
   "source": [
    "plt.imshow(grays.var(axis=0), cmap='gray')"
   ]
  },
  {
   "cell_type": "code",
   "execution_count": null,
   "metadata": {
    "ExecuteTime": {
     "end_time": "2019-09-25T07:46:24.378763-04:00",
     "start_time": "2019-09-25T07:46:17.593021"
    }
   },
   "outputs": [],
   "source": [
    "img_variance = grays.var(axis=0)\n",
    "var_max = img_variance.max()\n",
    "plt.imshow(1.0*(img_variance>0.75*var_max), cmap='gray')"
   ]
  },
  {
   "cell_type": "markdown",
   "metadata": {
    "ExecuteTime": {
     "end_time": "2019-09-25T07:44:44.014768-04:00",
     "start_time": "2019-09-25T07:44:37.181925"
    }
   },
   "source": [
    "We may use this to crop images"
   ]
  },
  {
   "cell_type": "markdown",
   "metadata": {},
   "source": [
    "# Vehicle Registration Number\n",
    "I'm trying different image processing steps to prepare the image for OCR."
   ]
  },
  {
   "cell_type": "code",
   "execution_count": null,
   "metadata": {
    "ExecuteTime": {
     "end_time": "2020-08-17T12:10:29.375313Z",
     "start_time": "2020-08-17T12:10:29.369126Z"
    },
    "scrolled": true
   },
   "outputs": [],
   "source": [
    "import pytesseract\n",
    "from PIL import Image\n",
    "from Levenshtein import distance"
   ]
  },
  {
   "cell_type": "code",
   "execution_count": null,
   "metadata": {
    "ExecuteTime": {
     "end_time": "2020-08-17T12:11:19.452014Z",
     "start_time": "2020-08-17T12:11:19.412525Z"
    }
   },
   "outputs": [],
   "source": [
    "meta_df = pd.read_csv(jp(DATADIR, 'meta_data.csv'))\n",
    "meta_df['VRN_length'] = meta_df.VRN.map(lambda s: len(s))\n",
    "print(f'Meta-database: {meta_df.shape}')"
   ]
  },
  {
   "cell_type": "code",
   "execution_count": null,
   "metadata": {
    "ExecuteTime": {
     "end_time": "2020-08-16T19:50:57.220709Z",
     "start_time": "2020-08-16T19:50:57.212515Z"
    }
   },
   "outputs": [],
   "source": [
    "meta_df.columns"
   ]
  },
  {
   "cell_type": "code",
   "execution_count": null,
   "metadata": {},
   "outputs": [],
   "source": []
  },
  {
   "cell_type": "code",
   "execution_count": null,
   "metadata": {
    "ExecuteTime": {
     "end_time": "2020-08-16T21:37:48.883434Z",
     "start_time": "2020-08-16T21:37:48.875873Z"
    }
   },
   "outputs": [],
   "source": [
    "imfile = jp(DATADIR, row['IRImagePatch'])\n",
    "print(imfile)\n",
    "ir = cv2.imread(jp(DATADIR, row['IRImagePatch']))\n",
    "print(ir.shape)"
   ]
  },
  {
   "cell_type": "code",
   "execution_count": null,
   "metadata": {
    "ExecuteTime": {
     "end_time": "2020-08-16T19:57:44.176247Z",
     "start_time": "2020-08-16T19:57:44.048327Z"
    }
   },
   "outputs": [],
   "source": [
    "!ls -l /data/classes/MSA8650/LPR_project_data/ir_patch/15411_19700101131706973_PWL2646_1_ir_patch.jpg"
   ]
  },
  {
   "cell_type": "code",
   "execution_count": null,
   "metadata": {
    "ExecuteTime": {
     "end_time": "2020-08-18T01:08:15.428652Z",
     "start_time": "2020-08-18T01:08:15.241126Z"
    }
   },
   "outputs": [],
   "source": [
    "config = \"-psm 7 -c tessedit_char_whitelist=0123456789ABCDEFGHIJKLMNOPQRSTUVWXYZ\"\n",
    "\n",
    "row = meta_df.iloc[898]\n",
    "img_file = jp(DATADIR, row['IRImagePatch'])\n",
    "print(f\"file: {img_file} {'exists' if os.path.exists(img_file) else 'does not exist'}\")\n",
    "ir = cv2.imread(jp(DATADIR, row['IRImagePatch']))\n",
    "print(ir.shape)\n",
    "ir = cv2.cvtColor(ir, cv2.COLOR_BGR2GRAY)\n",
    "print(ir.shape)\n",
    "plt.imshow(ir, cmap='gray');\n",
    "plt.show()\n",
    "plt.close()"
   ]
  },
  {
   "cell_type": "code",
   "execution_count": null,
   "metadata": {
    "ExecuteTime": {
     "end_time": "2020-08-18T01:08:24.430705Z",
     "start_time": "2020-08-18T01:08:24.175158Z"
    }
   },
   "outputs": [],
   "source": [
    "config = \"-psm 7 -c tessedit_char_whitelist=0123456789ABCDEFGHIJKLMNOPQRSTUVWXYZ\"\n",
    "res = pytesseract.image_to_string(Image.fromarray(ir), config=config).strip()\n",
    "print(res)"
   ]
  },
  {
   "cell_type": "code",
   "execution_count": null,
   "metadata": {
    "ExecuteTime": {
     "end_time": "2020-08-16T21:48:50.788524Z",
     "start_time": "2020-08-16T21:48:50.778657Z"
    }
   },
   "outputs": [],
   "source": [
    "np.array(meta_df.VRN.map(lambda s: len(s)))"
   ]
  },
  {
   "cell_type": "code",
   "execution_count": null,
   "metadata": {
    "ExecuteTime": {
     "end_time": "2020-08-17T12:10:55.892600Z",
     "start_time": "2020-08-17T12:10:55.883673Z"
    }
   },
   "outputs": [],
   "source": []
  },
  {
   "cell_type": "code",
   "execution_count": null,
   "metadata": {
    "ExecuteTime": {
     "end_time": "2020-08-17T12:10:59.598909Z",
     "start_time": "2020-08-17T12:10:59.573052Z"
    },
    "scrolled": false
   },
   "outputs": [],
   "source": [
    "meta_df.groupby('VRN_length').agg({'VRN_length': 'count'})"
   ]
  },
  {
   "cell_type": "code",
   "execution_count": null,
   "metadata": {
    "ExecuteTime": {
     "end_time": "2020-08-17T12:37:02.175115Z",
     "start_time": "2020-08-17T12:37:02.168197Z"
    }
   },
   "outputs": [],
   "source": [
    "meta_df.columns"
   ]
  },
  {
   "cell_type": "code",
   "execution_count": null,
   "metadata": {
    "ExecuteTime": {
     "end_time": "2020-08-17T12:38:15.303406Z",
     "start_time": "2020-08-17T12:38:15.292642Z"
    }
   },
   "outputs": [],
   "source": [
    "def load_ir_image(row, quiet=True):\n",
    "    img_file = jp(DATADIR, row['IRImagePatch'])\n",
    "    assert os.path.exists(img_file), f\"File '{img_file}' does not exist.\"\n",
    "    ir = cv2.imread(img_file)\n",
    "    if not quiet:\n",
    "        print(ir.shape)\n",
    "    ir = cv2.cvtColor(ir, cv2.COLOR_BGR2GRAY)\n",
    "    if not quiet:\n",
    "        print(ir.shape)\n",
    "    return ir\n",
    "          \n",
    "    \n",
    "def load_context_image(row, quiet=True):\n",
    "    img_file = jp(DATADIR, row['ContextImage'])\n",
    "    assert os.path.exists(img_file), f\"File '{img_file}' does not exist.\"\n",
    "    ir = cv2.imread(img_file)\n",
    "    if not quiet:\n",
    "        print(ir.shape)\n",
    "    ir = cv2.cvtColor(ir, cv2.COLOR_BGR2RGB)\n",
    "    if not quiet:\n",
    "        print(ir.shape)\n",
    "    return ir\n",
    "          \n",
    "    \n",
    "def show_image(ir):\n",
    "    plt.imshow(ir, cmap='gray', );\n",
    "    plt.xticks([], [])\n",
    "    plt.yticks([],[])\n",
    "    plt.show()\n",
    "    plt.close()"
   ]
  },
  {
   "cell_type": "code",
   "execution_count": null,
   "metadata": {
    "ExecuteTime": {
     "end_time": "2020-08-17T12:21:11.043121Z",
     "start_time": "2020-08-17T12:21:10.743131Z"
    }
   },
   "outputs": [],
   "source": [
    "for i, r in meta_df[meta_df.VRN_length==8].iterrows():\n",
    "    print(r.VRN)\n",
    "    ir = load_ir_image(r)\n",
    "    show_image(ir)"
   ]
  },
  {
   "cell_type": "code",
   "execution_count": null,
   "metadata": {
    "ExecuteTime": {
     "end_time": "2020-08-18T01:09:04.248261Z",
     "start_time": "2020-08-18T01:09:04.243198Z"
    },
    "scrolled": false
   },
   "outputs": [],
   "source": [
    "# N = (meta_df.VRN_length==7).sum()\n",
    "# for i, r in meta_df[meta_df.VRN_length==4].iterrows():\n",
    "#     print(r.VRN)\n",
    "#     ir = load_context_image(r)\n",
    "#     show_image(ir)"
   ]
  },
  {
   "cell_type": "code",
   "execution_count": null,
   "metadata": {},
   "outputs": [],
   "source": [
    "N = (meta_df.VRN_length==4).sum()\n",
    "for i, r in meta_df[meta_df.VRN_length==4].iterrows():\n",
    "    print(r.VRN)\n",
    "    ir = load_ir_image(r)\n",
    "    show_image(ir)"
   ]
  },
  {
   "cell_type": "code",
   "execution_count": null,
   "metadata": {},
   "outputs": [],
   "source": []
  },
  {
   "cell_type": "code",
   "execution_count": null,
   "metadata": {},
   "outputs": [],
   "source": []
  },
  {
   "cell_type": "code",
   "execution_count": null,
   "metadata": {
    "ExecuteTime": {
     "end_time": "2020-08-17T22:46:03.946386Z",
     "start_time": "2020-08-17T22:46:03.936820Z"
    }
   },
   "outputs": [],
   "source": [
    "row = meta_df.iloc[1]\n",
    "row"
   ]
  },
  {
   "cell_type": "code",
   "execution_count": null,
   "metadata": {
    "ExecuteTime": {
     "end_time": "2020-08-18T01:10:03.986313Z",
     "start_time": "2020-08-18T01:10:03.880936Z"
    }
   },
   "outputs": [],
   "source": [
    "ir = load_ir_image(row)\n",
    "show_image(ir)"
   ]
  },
  {
   "cell_type": "code",
   "execution_count": null,
   "metadata": {
    "ExecuteTime": {
     "end_time": "2020-08-17T22:47:46.840131Z",
     "start_time": "2020-08-17T22:47:46.835822Z"
    }
   },
   "outputs": [],
   "source": [
    "from pytesseract import Output"
   ]
  },
  {
   "cell_type": "code",
   "execution_count": null,
   "metadata": {
    "ExecuteTime": {
     "end_time": "2020-08-18T01:09:48.117965Z",
     "start_time": "2020-08-18T01:09:47.894423Z"
    }
   },
   "outputs": [],
   "source": [
    "config = \"-psm 7 -c tessedit_char_whitelist=0123456789ABCDEFGHIJKLMNOPQRSTUVWXYZ\"\n",
    "print(pytesseract.image_to_boxes(ir, config=config))"
   ]
  },
  {
   "cell_type": "code",
   "execution_count": null,
   "metadata": {},
   "outputs": [],
   "source": []
  },
  {
   "cell_type": "code",
   "execution_count": null,
   "metadata": {
    "ExecuteTime": {
     "end_time": "2020-08-16T21:38:15.678060Z",
     "start_time": "2020-08-16T21:38:15.654789Z"
    }
   },
   "outputs": [],
   "source": [
    "      \n",
    "#gray = cv2.cvtColor(cv2.imread(jp(DATADIR, 'context', row.context)), cv2.COLOR_BGR2GRAY) ##  cv2.COLOR_BGR2RGB)\n",
    "ir = cv2.cvtColor(cv2.imread(jp(DATADIR, 'ir_patch', row['IRImagePatch'])), cv2.COLOR_BGR2GRAY) ##  cv2.COLOR_BGR2RGB)\n",
    "plt.imshow(ir, cmap='gray');\n",
    "plt.show()\n",
    "plt.close()\n",
    "# res = pytesseract.image_to_string(Image.fromarray(ir), config=config).strip()\n",
    "# print(f\"VRN: {row.VRN} OCR: {res} Levenshtein distance: {distance(row.VRN, res)}\")\n",
    "\n",
    "# ir = cv2.resize(ir, (int(ir.shape[1]*1.5), ir.shape[0]), interpolation = cv2.INTER_AREA)\n",
    "# plt.imshow(ir, cmap='gray');\n",
    "# plt.show()\n",
    "# plt.close()\n",
    "# #ir = cv2.adaptiveThreshold(ir,255,cv2.ADAPTIVE_THRESH_GAUSSIAN_C,\\\n",
    "# #            cv2.THRESH_BINARY,11,2)\n",
    "# _ret, ir = cv2.threshold(ir,127,255,cv2.THRESH_BINARY)\n",
    "# print type(ir)\n",
    "# plt.imshow(ir, cmap='gray');\n",
    "# plt.show()\n",
    "# plt.close()\n",
    "# ir = cv2.adaptiveThreshold(ir,255,cv2.ADAPTIVE_THRESH_GAUSSIAN_C,\\\n",
    "#            cv2.THRESH_BINARY,11,2)\n",
    "# plt.imshow(ir, cmap='gray');\n",
    "# plt.show()\n",
    "# plt.close()\n",
    "# res = pytesseract.image_to_string(Image.fromarray(ir), config=config).strip()\n",
    "# print \"VRN: %s OCR: %s Levenshtein distance: %d\" % (row.VRN, res, distance(row.VRN, res))"
   ]
  },
  {
   "cell_type": "markdown",
   "metadata": {},
   "source": [
    "Let's test out how well they do"
   ]
  },
  {
   "cell_type": "code",
   "execution_count": null,
   "metadata": {
    "ExecuteTime": {
     "end_time": "2020-08-18T01:16:15.207026Z",
     "start_time": "2020-08-18T01:16:15.195845Z"
    }
   },
   "outputs": [],
   "source": [
    "def process_ir(r):\n",
    "    config = \"-psm 7 -c tessedit_char_whitelist=0123456789ABCDEFGHIJKLMNOPQRSTUVWXYZ\"\n",
    "    ir = load_ir_image(r)\n",
    "    res1 = pytesseract.image_to_string(Image.fromarray(ir), config=config).strip()\n",
    "    \n",
    "    ir2 = cv2.resize(ir, (int(ir.shape[1]*1.5), ir.shape[0]), interpolation = cv2.INTER_AREA)\n",
    "    res2 = pytesseract.image_to_string(Image.fromarray(ir2), config=config).strip()\n",
    "    \n",
    "    _ret, ir3 = cv2.threshold(ir,127,255,cv2.THRESH_BINARY)\n",
    "    res3 = pytesseract.image_to_string(Image.fromarray(ir3), config=config).strip()\n",
    "    \n",
    "    ir4 = cv2.adaptiveThreshold(ir, 255,\n",
    "                               cv2.ADAPTIVE_THRESH_GAUSSIAN_C, cv2.THRESH_BINARY, 11, 2)\n",
    "    res4 = pytesseract.image_to_string(Image.fromarray(ir4), config=config).strip()\n",
    "    return (res1, res2, res3, res4)"
   ]
  },
  {
   "cell_type": "code",
   "execution_count": null,
   "metadata": {
    "ExecuteTime": {
     "end_time": "2020-08-18T01:43:20.429247Z",
     "start_time": "2020-08-18T01:16:18.534504Z"
    }
   },
   "outputs": [],
   "source": [
    "meta_df['OCR_results'] = meta_df.apply(process_ir, axis=1)"
   ]
  },
  {
   "cell_type": "code",
   "execution_count": null,
   "metadata": {
    "ExecuteTime": {
     "end_time": "2019-09-22T22:49:36.408970-04:00",
     "start_time": "2019-09-22T22:48:05.321830"
    }
   },
   "outputs": [],
   "source": [
    "config = \"-psm 7 -c tessedit_char_whitelist=0123456789ABCDEFGHIJKLMNOPQRSTUVWXYZ\"\n",
    "\n",
    "dist_plain = np.zeros(lpdf2.shape[0], dtype=float)\n",
    "dist_scale = np.zeros(lpdf2.shape[0], dtype=float)\n",
    "dist_bin = np.zeros(lpdf2.shape[0], dtype=float)\n",
    "dist_bin_gauss = np.zeros(lpdf2.shape[0], dtype=float)\n",
    "\n",
    "\n",
    "max_iter = 100\n",
    "for i, row in lpdf2.iterrows():\n",
    "    max_iter -= 1\n",
    "    if max_iter<0: break\n",
    "    #gray = cv2.cvtColor(cv2.imread(jp(DATADIR, 'context', row.context)), cv2.COLOR_BGR2GRAY) ##  cv2.COLOR_BGR2RGB)\n",
    "    ir = cv2.cvtColor(cv2.imread(jp(DATADIR, 'ir_patch', row.ir_patch)), cv2.COLOR_BGR2GRAY) ##  cv2.COLOR_BGR2RGB)\n",
    "    res = pytesseract.image_to_string(Image.fromarray(ir), config=config).strip()\n",
    "    dist_plain[i] = distance(row.VRN, res)\n",
    "    \n",
    "    ir = cv2.resize(ir, (int(ir.shape[1]*1.5), ir.shape[0]), interpolation = cv2.INTER_AREA)\n",
    "    res = pytesseract.image_to_string(Image.fromarray(ir), config=config).strip()\n",
    "    dist_scale[i] = distance(row.VRN, res)\n",
    "\n",
    "    _ret, ir = cv2.threshold(ir,127,255,cv2.THRESH_BINARY)\n",
    "    res = pytesseract.image_to_string(Image.fromarray(ir), config=config).strip()\n",
    "    dist_bin[i] = distance(row.VRN, res)\n",
    "\n",
    "    ir = cv2.adaptiveThreshold(ir, 255,\n",
    "                               cv2.ADAPTIVE_THRESH_GAUSSIAN_C, cv2.THRESH_BINARY, 11, 2)\n",
    "    res = pytesseract.image_to_string(Image.fromarray(ir), config=config).strip()\n",
    "    dist_bin_gauss[i] = distance(row.VRN, res)\n",
    "\n",
    "lpdf3 = lpdf2.copy()\n",
    "lpdf3['dist_plain'] = dist_plain\n",
    "lpdf3['dist_scale'] = dist_scale\n",
    "lpdf3['dist_bin'] = dist_bin\n",
    "lpdf3['dist_bin_gauss'] = dist_bin_gauss"
   ]
  },
  {
   "cell_type": "code",
   "execution_count": null,
   "metadata": {},
   "outputs": [],
   "source": []
  },
  {
   "cell_type": "code",
   "execution_count": null,
   "metadata": {},
   "outputs": [],
   "source": []
  },
  {
   "cell_type": "code",
   "execution_count": null,
   "metadata": {},
   "outputs": [],
   "source": []
  },
  {
   "cell_type": "code",
   "execution_count": null,
   "metadata": {
    "ExecuteTime": {
     "end_time": "2019-09-22T22:49:43.967343-04:00",
     "start_time": "2019-09-22T22:49:43.921166"
    }
   },
   "outputs": [],
   "source": [
    "lpdf3.iloc[:100][['dist_plain', 'dist_scale', 'dist_bin', 'dist_bin_gauss']].describe()"
   ]
  },
  {
   "cell_type": "code",
   "execution_count": null,
   "metadata": {
    "ExecuteTime": {
     "end_time": "2019-09-22T22:51:48.216914-04:00",
     "start_time": "2019-09-22T22:51:48.010044"
    }
   },
   "outputs": [],
   "source": [
    "plt.hist(lpdf3.iloc[:100].dist_bin_gauss)"
   ]
  },
  {
   "cell_type": "code",
   "execution_count": null,
   "metadata": {},
   "outputs": [],
   "source": []
  },
  {
   "cell_type": "code",
   "execution_count": null,
   "metadata": {},
   "outputs": [],
   "source": []
  },
  {
   "cell_type": "code",
   "execution_count": null,
   "metadata": {},
   "outputs": [],
   "source": []
  },
  {
   "cell_type": "code",
   "execution_count": null,
   "metadata": {},
   "outputs": [],
   "source": []
  },
  {
   "cell_type": "code",
   "execution_count": null,
   "metadata": {
    "ExecuteTime": {
     "end_time": "2019-09-22T22:59:52.549959-04:00",
     "start_time": "2019-09-22T22:59:52.062703"
    }
   },
   "outputs": [],
   "source": [
    "row = lpdf2.iloc[278]\n",
    "ir = cv2.cvtColor(cv2.imread(jp(DATADIR, 'ir_patch', row.ir_patch)), cv2.COLOR_BGR2GRAY) ##  cv2.COLOR_BGR2RGB)\n",
    "plt.imshow(ir, cmap='gray')\n",
    "res = pytesseract.image_to_string(Image.fromarray(ir), config=config).strip()\n",
    "print row.VRN, res, distance(row.VRN, res)"
   ]
  },
  {
   "cell_type": "code",
   "execution_count": null,
   "metadata": {
    "ExecuteTime": {
     "end_time": "2019-09-22T22:59:58.354713-04:00",
     "start_time": "2019-09-22T22:59:57.899088"
    },
    "scrolled": true
   },
   "outputs": [],
   "source": [
    "import imutils\n",
    "ir2 = imutils.rotate_bound(ir, angle=5)\n",
    "plt.imshow(ir2, cmap='gray')\n",
    "res = pytesseract.image_to_string(Image.fromarray(ir2), config=config).strip()\n",
    "print row.VRN, res, distance(row.VRN, res)"
   ]
  },
  {
   "cell_type": "code",
   "execution_count": null,
   "metadata": {},
   "outputs": [],
   "source": [
    "res = pytesseract.image_to_string(Image.fromarray(ir), config=config).strip()\n",
    "print row.VRN, res, distance(row.VRN, res)"
   ]
  },
  {
   "cell_type": "code",
   "execution_count": null,
   "metadata": {
    "ExecuteTime": {
     "end_time": "2019-09-23T05:02:16.417793-04:00",
     "start_time": "2019-09-23T05:02:15.772312"
    },
    "scrolled": false
   },
   "outputs": [],
   "source": [
    "row = lpdf3[lpdf3.VehicleDirection=='U'].iloc[0]\n",
    "ir = cv2.cvtColor(cv2.imread(jp(DATADIR, 'ir_patch', row.ir_patch)), cv2.COLOR_BGR2GRAY) ##  cv2.COLOR_BGR2RGB)\n",
    "plt.imshow(ir, cmap='gray')\n",
    "plt.show()\n",
    "plt.close()\n",
    "\n",
    "edges = cv2.Canny(ir,50,150,apertureSize = 3)\n",
    "plt.imshow(edges, cmap='gray')\n",
    "plt.show()\n",
    "plt.close()\n",
    "# This returns an array of r and theta values \n",
    "lines = cv2.HoughLines(edges,5,5*np.pi/180, 50)\n",
    "if lines is not None:\n",
    "    print len(lines)\n",
    "else:\n",
    "    print 0\n",
    "# The below for loop runs till r and theta values  \n",
    "# are in the range of the 2d array \n",
    "angles = np.array(map(lambda l: l[0][1]*180.0/np.pi, lines[:20]))\n",
    "print angles\n",
    "print angles.mean(), np.percentile(angles, 50)\n",
    "# plt.hist(np.array(map(lambda l: l[0][1]*180.0/np.pi, lines[:2])), bins=20)\n",
    "# plt.show()\n",
    "# plt.close()\n",
    "\n",
    "ir2 = imutils.rotate_bound(ir, angle=90-np.percentile(angles, 50))\n",
    "plt.imshow(ir2, cmap='gray')\n",
    "plt.show()\n",
    "plt.close()\n",
    "res = pytesseract.image_to_string(Image.fromarray(ir2), config=config).strip()\n",
    "print row.VRN, res, distance(row.VRN, res)"
   ]
  },
  {
   "cell_type": "code",
   "execution_count": null,
   "metadata": {
    "ExecuteTime": {
     "end_time": "2019-09-23T05:03:47.407931-04:00",
     "start_time": "2019-09-23T05:03:47.401329"
    }
   },
   "outputs": [],
   "source": [
    "np.round(89.999995674289)"
   ]
  },
  {
   "cell_type": "code",
   "execution_count": null,
   "metadata": {
    "ExecuteTime": {
     "end_time": "2019-09-23T04:16:01.340351-04:00",
     "start_time": "2019-09-23T04:16:01.336488"
    }
   },
   "outputs": [],
   "source": [
    "print lines"
   ]
  },
  {
   "cell_type": "code",
   "execution_count": null,
   "metadata": {
    "ExecuteTime": {
     "end_time": "2019-09-23T04:18:35.281282-04:00",
     "start_time": "2019-09-23T04:18:35.076228"
    }
   },
   "outputs": [],
   "source": [
    "plt.hist(np.array(map(lambda l: l[0][1]*180.0/np.pi, lines)), bins=20)"
   ]
  },
  {
   "cell_type": "code",
   "execution_count": null,
   "metadata": {
    "ExecuteTime": {
     "end_time": "2019-09-23T04:56:22.544567-04:00",
     "start_time": "2019-09-23T04:56:22.526008"
    }
   },
   "outputs": [],
   "source": [
    "row = lpdf3[lpdf3.VehicleDirection=='U'].iloc[0]\n"
   ]
  },
  {
   "cell_type": "code",
   "execution_count": null,
   "metadata": {},
   "outputs": [],
   "source": []
  },
  {
   "cell_type": "code",
   "execution_count": null,
   "metadata": {
    "ExecuteTime": {
     "end_time": "2019-09-23T04:13:59.242270-04:00",
     "start_time": "2019-09-23T04:13:59.237651"
    }
   },
   "outputs": [],
   "source": [
    "len(lines)"
   ]
  },
  {
   "cell_type": "code",
   "execution_count": null,
   "metadata": {
    "ExecuteTime": {
     "end_time": "2019-09-23T04:25:01.369287-04:00",
     "start_time": "2019-09-23T04:25:00.821643"
    }
   },
   "outputs": [],
   "source": [
    "row = lpdf2.iloc[1200]\n",
    "ir = cv2.cvtColor(cv2.imread(jp(DATADIR, 'ir_patch', row.ir_patch)), cv2.COLOR_BGR2GRAY) ##  cv2.COLOR_BGR2RGB)\n",
    "plt.imshow(ir, cmap='gray')\n",
    "res = pytesseract.image_to_string(Image.fromarray(ir), config=config).strip()\n",
    "print row.VRN, res, distance(row.VRN, res)"
   ]
  },
  {
   "cell_type": "code",
   "execution_count": null,
   "metadata": {
    "ExecuteTime": {
     "end_time": "2019-09-23T04:27:06.037907-04:00",
     "start_time": "2019-09-23T04:27:06.024495"
    }
   },
   "outputs": [],
   "source": [
    "lpdf3.groupby('VehicleDirection')['VehicleDirection'].count()"
   ]
  },
  {
   "cell_type": "code",
   "execution_count": null,
   "metadata": {
    "ExecuteTime": {
     "end_time": "2019-09-23T04:33:11.423900-04:00",
     "start_time": "2019-09-23T04:33:10.034427"
    }
   },
   "outputs": [],
   "source": [
    "for i, row in lpdf3[lpdf3.VehicleDirection=='U'].iloc[:10].iterrows():\n",
    "    ir = cv2.cvtColor(cv2.imread(jp(DATADIR, 'ir_patch', row['ir_patch'])), cv2.COLOR_BGR2GRAY) ##  cv2.COLOR_BGR2RGB)\n",
    "    plt.imshow(ir, cmap='gray')\n",
    "    plt.show()\n",
    "    plt.close()"
   ]
  },
  {
   "cell_type": "code",
   "execution_count": null,
   "metadata": {
    "ExecuteTime": {
     "end_time": "2019-09-23T04:34:32.776936-04:00",
     "start_time": "2019-09-23T04:34:32.677230"
    }
   },
   "outputs": [],
   "source": [
    "lpdf3.describe().T"
   ]
  },
  {
   "cell_type": "markdown",
   "metadata": {
    "ExecuteTime": {
     "end_time": "2019-09-23T04:30:02.043161-04:00",
     "start_time": "2019-09-23T04:30:01.956791"
    }
   },
   "source": [
    "# Process Pipeline"
   ]
  },
  {
   "cell_type": "code",
   "execution_count": null,
   "metadata": {
    "ExecuteTime": {
     "end_time": "2019-09-23T07:27:44.594653-04:00",
     "start_time": "2019-09-23T07:15:25.489534"
    },
    "scrolled": false
   },
   "outputs": [],
   "source": [
    "def read_ir_patch(ir_patch):\n",
    "    return cv2.cvtColor(cv2.imread(jp(DATADIR, 'ir_patch', ir_patch)), cv2.COLOR_BGR2GRAY)\n",
    "\n",
    "\n",
    "def rotate(img):\n",
    "    edges = cv2.Canny(img,50,150,apertureSize = 3)\n",
    "\n",
    "    # This returns an array of r and theta values \n",
    "    lines = cv2.HoughLines(edges,5,5*np.pi/180, 50)\n",
    "    if lines is not None:\n",
    "        #print len(lines)\n",
    "        thetas = np.array(map(lambda l: l[0][1]*180.0/np.pi, lines[:20]))\n",
    "        th = np.round(np.percentile(angles, 50))\n",
    "        img2 = imutils.rotate_bound(img, angle=90-th)\n",
    "        return img2\n",
    "    else:\n",
    "        return img\n",
    "\n",
    "    \n",
    "def show(img):\n",
    "    plt.imshow(img, cmap='gray')\n",
    "    plt.show()\n",
    "    plt.close()\n",
    "    \n",
    "    \n",
    "def scale(img, Sx=1.0, Sy=1.0):\n",
    "    img2 = cv2.resize(img, (int(img.shape[1]*Sx), int(img.shape[0]*Sy)), interpolation = cv2.INTER_AREA)\n",
    "    return img2\n",
    "    \n",
    "\n",
    "def thresh(img, lo=127, hi=255):\n",
    "    _ret, img2 = cv2.threshold(img, lo, hi, cv2.THRESH_BINARY)\n",
    "    return img2\n",
    "\n",
    "\n",
    "def threshgauss(img, lo=127, hi=255):\n",
    "    _ret, img2 = cv2.threshold(img, lo, hi, cv2.THRESH_BINARY)\n",
    "    img3 = cv2.adaptiveThreshold(img2, 255,\n",
    "                               cv2.ADAPTIVE_THRESH_GAUSSIAN_C, cv2.THRESH_BINARY, 11, 2)\n",
    "    return img3\n",
    "\n",
    "\n",
    "config = \"-psm 7 -c tessedit_char_whitelist=0123456789ABCDEFGHIJKLMNOPQRSTUVWXYZ\"\n",
    "\n",
    "lpdf4 = lpdf2.copy()\n",
    "\n",
    "ls_dist_val = []\n",
    "ls_dist_idx = []\n",
    "\n",
    "\n",
    "max_iter = 99999999\n",
    "for i, row in lpdf2.iterrows():\n",
    "    max_iter -= 1\n",
    "    if max_iter<0: break\n",
    "    #gray = cv2.cvtColor(cv2.imread(jp(DATADIR, 'context', row.context)), cv2.COLOR_BGR2GRAY) ##  cv2.COLOR_BGR2RGB)\n",
    "    ## ir = cv2.cvtColor(cv2.imread(jp(DATADIR, 'ir_patch', row.ir_patch)), cv2.COLOR_BGR2GRAY) ##  cv2.COLOR_BGR2RGB)\n",
    "    ir = read_ir_patch(row.ir_patch)\n",
    "    \n",
    "    ir2 = scale(ir, Sx=2.0, Sy=2.0)\n",
    "    ir3 = rotate(ir2)\n",
    "    ir4 = threshgauss(ir3)\n",
    "    \n",
    "    res = pytesseract.image_to_string(Image.fromarray(ir4), config=config).strip()\n",
    "    d = distance(row.VRN, res)\n",
    "    ls_dist_val.append(d)\n",
    "    ls_dist_idx.append(i)\n",
    "    \n",
    "    #     ir = cv2.resize(ir, (int(ir.shape[1]*1.5), ir.shape[0]), interpolation = cv2.INTER_AREA)\n",
    "    #     res = pytesseract.image_to_string(Image.fromarray(ir), config=config).strip()\n",
    "    #     dist_scale[i] = distance(row.VRN, res)\n",
    "\n",
    "    #     _ret, ir = cv2.threshold(ir,127,255,cv2.THRESH_BINARY)\n",
    "    #     res = pytesseract.image_to_string(Image.fromarray(ir), config=config).strip()\n",
    "    #     dist_bin[i] = distance(row.VRN, res)\n",
    "\n",
    "    #     ir = cv2.adaptiveThreshold(ir, 255,\n",
    "    #                                cv2.ADAPTIVE_THRESH_GAUSSIAN_C, cv2.THRESH_BINARY, 11, 2)\n",
    "    #     res = pytesseract.image_to_string(Image.fromarray(ir), config=config).strip()\n",
    "    #     dist_bin_gauss[i] = distance(row.VRN, res)\n",
    "\n",
    "dist_df = pd.DataFrame({'ls_dist': ls_dist_val}, index=ls_dist_idx)\n",
    "print dist_df.shape\n",
    "#dist_df.head()\n",
    "dist_df.groupby('ls_dist')['ls_dist'].count()"
   ]
  },
  {
   "cell_type": "raw",
   "metadata": {},
   "source": [
    "s_dist\n",
    "0      12\n",
    "1      24\n",
    "2      46\n",
    "3      97\n",
    "4     133\n",
    "5     186\n",
    "6     317\n",
    "7     827\n",
    "8      57\n",
    "9      52\n",
    "10     35\n",
    "11     20\n",
    "12     17\n",
    "13      4\n",
    "14      7\n",
    "15      2\n",
    "16      2\n",
    "24      1\n",
    "Name: ls_dist, dtype: int64"
   ]
  },
  {
   "cell_type": "code",
   "execution_count": null,
   "metadata": {},
   "outputs": [],
   "source": []
  },
  {
   "cell_type": "code",
   "execution_count": null,
   "metadata": {},
   "outputs": [],
   "source": []
  },
  {
   "cell_type": "code",
   "execution_count": null,
   "metadata": {},
   "outputs": [],
   "source": []
  },
  {
   "cell_type": "code",
   "execution_count": null,
   "metadata": {},
   "outputs": [],
   "source": []
  },
  {
   "cell_type": "code",
   "execution_count": null,
   "metadata": {
    "ExecuteTime": {
     "end_time": "2019-09-23T05:41:56.934936-04:00",
     "start_time": "2019-09-23T05:41:56.926102"
    },
    "scrolled": true
   },
   "outputs": [],
   "source": [
    "dist_df.groupby('ls_dist')['ls_dist'].count()"
   ]
  },
  {
   "cell_type": "code",
   "execution_count": null,
   "metadata": {},
   "outputs": [],
   "source": []
  },
  {
   "cell_type": "code",
   "execution_count": null,
   "metadata": {},
   "outputs": [],
   "source": []
  },
  {
   "cell_type": "code",
   "execution_count": null,
   "metadata": {},
   "outputs": [],
   "source": []
  },
  {
   "cell_type": "code",
   "execution_count": null,
   "metadata": {},
   "outputs": [],
   "source": []
  },
  {
   "cell_type": "code",
   "execution_count": null,
   "metadata": {},
   "outputs": [],
   "source": []
  },
  {
   "cell_type": "code",
   "execution_count": null,
   "metadata": {},
   "outputs": [],
   "source": []
  },
  {
   "cell_type": "code",
   "execution_count": null,
   "metadata": {},
   "outputs": [],
   "source": []
  },
  {
   "cell_type": "code",
   "execution_count": null,
   "metadata": {},
   "outputs": [],
   "source": []
  },
  {
   "cell_type": "code",
   "execution_count": null,
   "metadata": {},
   "outputs": [],
   "source": []
  },
  {
   "cell_type": "code",
   "execution_count": null,
   "metadata": {},
   "outputs": [],
   "source": []
  },
  {
   "cell_type": "code",
   "execution_count": null,
   "metadata": {
    "ExecuteTime": {
     "end_time": "2019-09-22T23:27:50.899676-04:00",
     "start_time": "2019-09-22T23:27:50.892233"
    }
   },
   "outputs": [],
   "source": [
    "angles = np.array(map(lambda l: l[0][0], lines))"
   ]
  },
  {
   "cell_type": "code",
   "execution_count": null,
   "metadata": {
    "ExecuteTime": {
     "end_time": "2019-09-22T23:30:01.445912-04:00",
     "start_time": "2019-09-22T23:30:01.435539"
    }
   },
   "outputs": [],
   "source": [
    "np.histogram(angles)"
   ]
  },
  {
   "cell_type": "code",
   "execution_count": null,
   "metadata": {
    "ExecuteTime": {
     "end_time": "2019-09-22T23:29:18.642854-04:00",
     "start_time": "2019-09-22T23:29:18.482584"
    }
   },
   "outputs": [],
   "source": [
    "ang2 = sorted(angles)\n",
    "plt.plot(range(len(ang2)), ang2)"
   ]
  },
  {
   "cell_type": "code",
   "execution_count": null,
   "metadata": {},
   "outputs": [],
   "source": []
  },
  {
   "cell_type": "code",
   "execution_count": null,
   "metadata": {},
   "outputs": [],
   "source": []
  }
 ],
 "metadata": {
  "hide_input": false,
  "kernelspec": {
   "display_name": "Python 3",
   "language": "python",
   "name": "python3"
  },
  "language_info": {
   "codemirror_mode": {
    "name": "ipython",
    "version": 3
   },
   "file_extension": ".py",
   "mimetype": "text/x-python",
   "name": "python",
   "nbconvert_exporter": "python",
   "pygments_lexer": "ipython3",
   "version": "3.8.5"
  },
  "toc": {
   "nav_menu": {
    "height": "138px",
    "width": "252px"
   },
   "navigate_menu": true,
   "number_sections": true,
   "sideBar": true,
   "threshold": 4,
   "toc_cell": false,
   "toc_section_display": "block",
   "toc_window_display": true
  }
 },
 "nbformat": 4,
 "nbformat_minor": 2
}
